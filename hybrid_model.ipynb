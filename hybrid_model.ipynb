{
 "cells": [
  {
   "cell_type": "markdown",
   "metadata": {},
   "source": [
    "# Recommend System\r\n",
    "-------------------"
   ]
  },
  {
   "cell_type": "markdown",
   "metadata": {},
   "source": [
    "# Import Libraries"
   ]
  },
  {
   "cell_type": "code",
   "execution_count": 22,
   "metadata": {},
   "outputs": [],
   "source": [
    "import math\r\n",
    "import random\r\n",
    "import numpy as np\r\n",
    "import pandas as pd\r\n",
    "\r\n",
    "from keras.models import Model\r\n",
    "from keras import backend as bd\r\n",
    "from keras.optimizers import Adam\r\n",
    "from keras.utils import plot_model\r\n",
    "from keras.engine.topology import Layer\r\n",
    "from keras.layers.core import Dense, Lambda\r\n",
    "from keras.layers import Input, Embedding, Flatten\r\n",
    "\r\n",
    "from sklearn.metrics import roc_auc_score, roc_curve\r\n",
    "from sklearn.preprocessing import LabelEncoder\r\n",
    "from sklearn.neighbors import NearestNeighbors\r\n",
    "\r\n",
    "import matplotlib.pyplot as plt"
   ]
  },
  {
   "cell_type": "markdown",
   "metadata": {},
   "source": [
    "# Preprocessing"
   ]
  },
  {
   "cell_type": "code",
   "execution_count": 23,
   "metadata": {},
   "outputs": [],
   "source": [
    "POS = 4.0\n",
    "NEG = 3.0\n",
    "\n",
    "def get_pos(df, anchor):\n",
    "    ps = df.loc[anchor] >= POS\n",
    "    return ps[ps].index.values\n",
    "\n",
    "def get_neg(df, anchor):\n",
    "    ps = df.loc[anchor] <= NEG\n",
    "    return ps[ps].index.values"
   ]
  },
  {
   "cell_type": "code",
   "execution_count": 24,
   "metadata": {},
   "outputs": [],
   "source": [
    "def process_features(df, con_features, cat_features):\n",
    "    X_cat = []\n",
    "    X_con = []\n",
    "\n",
    "    for column in con_features:\n",
    "        X = np.array(df[column])\n",
    "        X_con.append(X)\n",
    "\n",
    "    for column in cat_features:\n",
    "        X = np.asarray(df[column].tolist())\n",
    "        X_line = pd.factorize(X)[0]\n",
    "        X_cat.append(np.asarray(X_line))\n",
    "\n",
    "    try: X_con = np.column_stack(X_con)\n",
    "    except: pass\n",
    "\n",
    "    try: X_cat = np.column_stack(X_cat)\n",
    "    except: pass\n",
    "\n",
    "    if(len(cat_features) > 0) and (len(con_features) > 0):\n",
    "        X = np.concatenate((X_con, X_cat), axis=1)\n",
    "    elif len(cat_features) == 0:\n",
    "        X = X_con\n",
    "    elif len(con_features) == 0:\n",
    "        X = X_cat\n",
    "    else:\n",
    "        X = None\n",
    "    \n",
    "    return X"
   ]
  },
  {
   "cell_type": "markdown",
   "metadata": {},
   "source": [
    "# Load Data"
   ]
  },
  {
   "cell_type": "code",
   "execution_count": 25,
   "metadata": {},
   "outputs": [],
   "source": [
    "df_ratings = pd.read_csv('data/ratings.csv')\r\n",
    "\r\n",
    "df_items = pd.read_csv('data/items.csv')\r\n",
    "n_items = df_items.movie_id.nunique()\r\n",
    "\r\n",
    "df_users = pd.read_csv('data/users.csv')\r\n",
    "n_users = df_users.user_id.nunique()\r\n",
    "\r\n",
    "df_matrix = df_ratings.pivot(index='user_id', columns='movie_id', values='rating')"
   ]
  },
  {
   "cell_type": "code",
   "execution_count": 26,
   "metadata": {},
   "outputs": [],
   "source": [
    "user_con_features = ['age']\r\n",
    "user_cat_features = ['sex', 'occupation']\r\n",
    "\r\n",
    "item_features = ['action', 'adventure', 'animation', 'children', 'comedy',\r\n",
    "                'crime','documentary', 'drama', 'fantasy','film_noir','horror',\r\n",
    "                'musical','mystery','romance','sci_fi','thriller','war','western']"
   ]
  },
  {
   "cell_type": "code",
   "execution_count": 27,
   "metadata": {},
   "outputs": [],
   "source": [
    "X_user = process_features(df_users, user_con_features, user_cat_features)\r\n",
    "X_item = process_features(df_items, item_features, [])"
   ]
  },
  {
   "cell_type": "markdown",
   "metadata": {},
   "source": [
    "# Model Building"
   ]
  },
  {
   "cell_type": "markdown",
   "metadata": {},
   "source": [
    "## Defien Layers"
   ]
  },
  {
   "cell_type": "code",
   "execution_count": 28,
   "metadata": {},
   "outputs": [],
   "source": [
    "class TripletLossLayer(Layer):\r\n",
    "    def __init__(self, **kwargs):\r\n",
    "        super(TripletLossLayer, self).__init__(**kwargs)\r\n",
    "\r\n",
    "    def bpr_triple_loss(self, inputs):\r\n",
    "        anchor, positive, negative = inputs\r\n",
    "        p_score = bd.dot(anchor, bd.transpose(positive))\r\n",
    "        n_score = bd.dot(anchor, bd.transpose(negative))\r\n",
    "        return bd.log(1.0 - bd.sigmoid(p_score - n_score))\r\n",
    "    \r\n",
    "    def call(self, inputs):\r\n",
    "        loss = self.bpr_triple_loss(inputs)\r\n",
    "        self.add_loss(loss)\r\n",
    "        return loss\r\n",
    "\r\n",
    "class ScoreLayer(Layer):\r\n",
    "    def __init__(self, **kwargs):\r\n",
    "        super(ScoreLayer, self).__init__(**kwargs)\r\n",
    "\r\n",
    "    def rec_similarity(self, inputs):\r\n",
    "        anchor, item = inputs\r\n",
    "        score = bd.dot(anchor, bd.transpose(item))\r\n",
    "        return score\r\n",
    "    \r\n",
    "    def call(self, inputs):\r\n",
    "        pred = self.rec_similarity(inputs)\r\n",
    "        return pred"
   ]
  },
  {
   "cell_type": "markdown",
   "metadata": {},
   "source": [
    "## Defien Model"
   ]
  },
  {
   "cell_type": "code",
   "execution_count": 29,
   "metadata": {},
   "outputs": [],
   "source": [
    "def build_model(n_users, n_items, n_factors = 30):\r\n",
    "    n_user_features = 3\r\n",
    "    n_item_features = 18\r\n",
    "\r\n",
    "    user_input = Input((n_user_features,), name='user_input')\r\n",
    "    pos_item_input = Input((n_item_features,), name='pos_item_input')\r\n",
    "    neg_item_input = Input((n_item_features,), name='neg_item_input')\r\n",
    "\r\n",
    "    inputs = [user_input, pos_item_input, neg_item_input]\r\n",
    "\r\n",
    "    user_embedding = Embedding(n_users, n_factors, input_length=n_user_features, name='user_embedding')\r\n",
    "    item_embedding = Embedding(n_items, n_factors, input_length=n_item_features, name='item_embedding')\r\n",
    "\r\n",
    "    vec_con_64 = Dense(64, name='dense_vec_64', activation='relu')\r\n",
    "    vec_con_32 = Dense(32, name='dense_vec_32', activation='relu')\r\n",
    "\r\n",
    "    vec_conv = Dense(n_factors, name='dense_vec', activation='softmax')\r\n",
    "\r\n",
    "    user_flatten = Flatten(name='flatten_user_embedding')(user_embedding(user_input))\r\n",
    "    user_dense = Dense(n_factors, name='dense_user', activation='softmax')(user_flatten)\r\n",
    "\r\n",
    "    pos_flatten = Flatten(name='flatten_pos_embedding')(item_embedding(pos_item_input))\r\n",
    "    pos_dense = vec_con_32(pos_flatten)\r\n",
    "    pos_dense = vec_conv(pos_dense)\r\n",
    "\r\n",
    "    neg_flatten = Flatten(name='flatten_neg_embedding')(item_embedding(neg_item_input))\r\n",
    "    neg_dense = vec_con_32(neg_flatten)\r\n",
    "    neg_dense = vec_conv(neg_dense)\r\n",
    "\r\n",
    "    pos_rec_score = ScoreLayer(name='pos_recomendation_score')([user_dense, pos_dense])\r\n",
    "    neg_rec_score = ScoreLayer(name='neg_recomendation_score')([user_dense, neg_dense])\r\n",
    "\r\n",
    "    loss_layer = TripletLossLayer(name='triplet_loss_layer')([user_dense, pos_dense, neg_dense])\r\n",
    "\r\n",
    "    train_model = Model(inputs, loss_layer, name='training_model')\r\n",
    "    predic_model = Model(inputs[:-1], pos_rec_score, name='inference_model')\r\n",
    "\r\n",
    "    train_model.compile(loss=None, optimizer=Adam(lr=0.001))\r\n",
    "\r\n",
    "    return train_model, predic_model\r\n"
   ]
  },
  {
   "cell_type": "code",
   "execution_count": 30,
   "metadata": {},
   "outputs": [],
   "source": [
    "train_model, predic_model = build_model(n_users, n_items)"
   ]
  },
  {
   "cell_type": "markdown",
   "metadata": {},
   "source": [
    "# Training Phase"
   ]
  },
  {
   "cell_type": "markdown",
   "metadata": {},
   "source": [
    "## Building Batch"
   ]
  },
  {
   "cell_type": "code",
   "execution_count": 31,
   "metadata": {},
   "outputs": [],
   "source": [
    "def cosine_dist(x, y, eps=1e-6):\r\n",
    "    return 1 - np.dor(x, y.T)/(np.linalg.norm(x)*np.linalg.norm(y) + eps)"
   ]
  },
  {
   "cell_type": "code",
   "execution_count": 32,
   "metadata": {},
   "outputs": [],
   "source": [
    "def split_random(size, X_user, X_item, df):\r\n",
    "    n_user_features = X_user.shape[1]\r\n",
    "    n_item_features = X_item.shape[1]\r\n",
    "\r\n",
    "    user_list = list(df.index.values)\r\n",
    "    results = []\r\n",
    "\r\n",
    "    for i in range(size):\r\n",
    "        anchor_id = random.choice(user_list)\r\n",
    "\r\n",
    "        pos_movie_id = get_pos(df, anchor_id)\r\n",
    "\r\n",
    "        try: positive_id = random.choice(pos_movie_id)\r\n",
    "        except: positive_id = 0\r\n",
    "\r\n",
    "        results.append([anchor_id, positive_id])\r\n",
    "    \r\n",
    "    return pd.DataFrame(data=results, columns=[\"user_id\", \"movie_id\"])"
   ]
  },
  {
   "cell_type": "code",
   "execution_count": 33,
   "metadata": {},
   "outputs": [],
   "source": [
    "def get_triple_hard(size, X_user, X_item, df):\r\n",
    "    n_user_features = X_user.shape[1]\r\n",
    "    n_item_features = X_item.shape[1]\r\n",
    "\r\n",
    "    user_list = list(df.index.values)\r\n",
    "    results = [\r\n",
    "        np.zeros((size, n_user_features)),\r\n",
    "        np.zeros((size, n_item_features)),\r\n",
    "        np.zeros((size, n_item_features))\r\n",
    "    ]\r\n",
    "    user_ids = []\r\n",
    "    pos_ids = []\r\n",
    "    neg_ids = []\r\n",
    "\r\n",
    "    for i in range(size):\r\n",
    "        anchor_id = random.choice(user_list)\r\n",
    "        user_ids.append(anchor_id)\r\n",
    "\r\n",
    "        pos_movie_id = get_pos(df, anchor_id)\r\n",
    "        neg_movie_id = get_neg(df, anchor_id)\r\n",
    "\r\n",
    "        try: positive_id = random.choice(pos_movie_id)\r\n",
    "        except: positive_id = 0\r\n",
    "        pos_ids.append(positive_id)\r\n",
    "\r\n",
    "        try:\r\n",
    "            neg_min = np.argmin([(cosine_dist(X_item[positive_id - 1], X_item[k-1])) for k in neg_movie_id]) \r\n",
    "            negative_id = neg_movie_id[neg_min]\r\n",
    "        except:\r\n",
    "            try:negative_id = random.choice(neg_movie_id)\r\n",
    "            except:negative_id = 0\r\n",
    "        neg_ids.append(negative_id)\r\n",
    "\r\n",
    "        results[0][i,:] = X_user[anchor_id - 1][:]\r\n",
    "        \r\n",
    "        if positive_id == 0:\r\n",
    "            results[1][i,:] = np.zeros((n_item_features))\r\n",
    "        else:\r\n",
    "            results[1][i,:] = X_item[positive_id - 1][:]\r\n",
    "        \r\n",
    "        if negative_id == 0:\r\n",
    "            results[2][i,:] = np.zeros((n_item_features))\r\n",
    "        else:\r\n",
    "            results[2][i,:] = X_item[negative_id - 1][:]\r\n",
    "    \r\n",
    "    return results"
   ]
  },
  {
   "cell_type": "markdown",
   "metadata": {},
   "source": [
    "## Traning over batches"
   ]
  },
  {
   "cell_type": "code",
   "execution_count": 34,
   "metadata": {},
   "outputs": [],
   "source": [
    "BATCH_SIZE = 10\r\n",
    "EVALUATE_EVERY = 100\r\n",
    "NUMBER_VALIDATE = 1000\r\n",
    "NUMBER_ITERATIONS = 2000"
   ]
  },
  {
   "cell_type": "code",
   "execution_count": 35,
   "metadata": {},
   "outputs": [],
   "source": [
    "import time\r\n",
    "\r\n",
    "try:\r\n",
    "    train_model.load_weights('resources/hybrid/train_model.h5')\r\n",
    "    predic_model.load_weights('resources/hybrid/predic_model.h5')\r\n",
    "    \r\n",
    "except OSError:\r\n",
    "    log_file = open('resources/hybrid/log_training', 'w')\r\n",
    "\r\n",
    "    log_file.write('Start training process!')\r\n",
    "    log_file.write('---------------------------------')\r\n",
    "\r\n",
    "    time_start = time.time()\r\n",
    "    n_iterations = 0\r\n",
    "    for i in range(1, NUMBER_ITERATIONS + 1):\r\n",
    "        results = get_triple_hard(BATCH_SIZE, X_user, X_item, df_matrix)\r\n",
    "        loss = train_model.train_on_batch([results[0], results[1], results[2]], None)\r\n",
    "        n_iterations += 1\r\n",
    "        if i % EVALUATE_EVERY == 0:\r\n",
    "            log_file.write('\\n--------------\\n')\r\n",
    "            log_file.write('[{3}] Time for {0} iterations: {1:.1f} mins, Train Loss: {2}'.format(i, (time.time() - time_start)/60.0, loss, n_iterations))\r\n",
    "        if i % (EVALUATE_EVERY * 10) == 0:    \r\n",
    "            print(f'[{i}] ...')\r\n",
    "    train_model.save_weights('resources/hybrid/train_model.h5')\r\n",
    "    predic_model.save_weights('resources/hybrid/predic_model.h5')\r\n"
   ]
  },
  {
   "cell_type": "code",
   "execution_count": 36,
   "metadata": {},
   "outputs": [],
   "source": [
    "try:\r\n",
    "    train = pd.read_csv('resources/hybrid/training.csv')\r\n",
    "except FileNotFoundError:\r\n",
    "    n_train = int(df_ratings.shape[0] * 0.8)\r\n",
    "    train = split_random(n_train, X_user, X_items, df_matrix)\r\n",
    "    train.to_csv('resources/hybrid/training.csv')"
   ]
  },
  {
   "cell_type": "markdown",
   "metadata": {},
   "source": [
    "# Evaluation"
   ]
  },
  {
   "cell_type": "code",
   "execution_count": 37,
   "metadata": {},
   "outputs": [
    {
     "name": "stdout",
     "output_type": "stream",
     "text": [
      "WARNING:tensorflow:From C:\\Users\\Reinaldo\\anaconda3\\lib\\site-packages\\keras\\backend\\tensorflow_backend.py:422: The name tf.global_variables is deprecated. Please use tf.compat.v1.global_variables instead.\n",
      "\n"
     ]
    },
    {
     "data": {
      "text/plain": "array([[1.5799806e-05]], dtype=float32)"
     },
     "execution_count": 37,
     "metadata": {},
     "output_type": "execute_result"
    }
   ],
   "source": [
    "predic_model.predict([X_user[:1], X_item[7:8]])"
   ]
  },
  {
   "cell_type": "code",
   "execution_count": 38,
   "metadata": {},
   "outputs": [
    {
     "data": {
      "text/plain": "array([[3.0051595e-10]], dtype=float32)"
     },
     "execution_count": 38,
     "metadata": {},
     "output_type": "execute_result"
    }
   ],
   "source": [
    "predic_model.predict([X_user[:1], X_item[1:]])"
   ]
  },
  {
   "cell_type": "code",
   "execution_count": 39,
   "metadata": {},
   "outputs": [],
   "source": [
    "def compute_probs(model, X_user, X_item, thrs=0.5):\r\n",
    "    m = X_user.shape[0]\r\n",
    "    nbevaluation = int(m**2)\r\n",
    "    X = np.zeros((nbevaluation))\r\n",
    "    y = np.zeros((nbevaluation))\r\n",
    "\r\n",
    "    k = 0\r\n",
    "    for i in range(1, m):\r\n",
    "        for j in range(1, m):\r\n",
    "            X[k] = float(model.predict([X_user[i-1:i], X_item[j-1:j]]))\r\n",
    "            if X[k] > thrs: y[k] = 1\r\n",
    "            else: y[k] = 0\r\n",
    "            k += 1\r\n",
    "    return X, y\r\n",
    "\r\n",
    "def compute_metrics(X, y):\r\n",
    "    auc = roc_auc_score(y, X)\r\n",
    "    fpr, tpr, thresholds = roc_curve(y, X)\r\n",
    "    return fpr, tpr, thresholds, auc\r\n",
    "\r\n",
    "def find_nearest(array, value):\r\n",
    "    idx = np.searchsorted(array, value, side='left')\r\n",
    "    if idx > 0 and (idx == len(array) or math.fabs(value - array[idx-1]) < math .fabs(value - array[idx])):\r\n",
    "        return array[idx-1], idx-1\r\n",
    "    else:\r\n",
    "        return array[idx], idx\r\n",
    "\r\n",
    "def draw_roc(fpr, tpr, threshold):\r\n",
    "    targetfpr=1e-3\r\n",
    "    _, idx = find_nearest(fpr, targetfpr)\r\n",
    "    threshold = threshold[idx]\r\n",
    "    recall = tpr[idx]\r\n",
    "\r\n",
    "    plt.plot([0, 1], [0, 1], linestyle='--')\r\n",
    "    plt.plot(fpr, tpr, marker='.')\r\n",
    "    plt.title('AUC:{0:.3f}\\nSensitivity : {2:.1f} @FPR={1:.0e}\\nThreshold={3}'.format(auc, targetfpr, recall, abs(threshold)))\r\n",
    "    plt.show()"
   ]
  },
  {
   "cell_type": "code",
   "execution_count": 40,
   "metadata": {},
   "outputs": [
    {
     "data": {
      "image/png": "[encoded data removed]",
      "text/plain": "<Figure size 432x288 with 1 Axes>"
     },
     "metadata": {
      "needs_background": "light",
      "transient": {}
     },
     "output_type": "display_data"
    }
   ],
   "source": [
    "X, y = compute_probs(predic_model, X_user[:100], X_item[:100], thrs=0.02)\r\n",
    "fpr, tpr, threshold, auc = compute_metrics(X, y)\r\n",
    "draw_roc(fpr, tpr, threshold)"
   ]
  },
  {
   "cell_type": "code",
   "execution_count": 41,
   "metadata": {},
   "outputs": [],
   "source": [
    "def get_embedding(model, name):\r\n",
    "    embedding = model.get_layer(name = name).get_weights()[0]\r\n",
    "    return embedding"
   ]
  },
  {
   "cell_type": "code",
   "execution_count": 42,
   "metadata": {},
   "outputs": [],
   "source": [
    "item_embedding = get_embedding(predic_model, 'item_embedding')\r\n",
    "user_embedding = get_embedding(predic_model, 'user_embedding')"
   ]
  },
  {
   "cell_type": "code",
   "execution_count": 56,
   "metadata": {},
   "outputs": [],
   "source": [
    "def get_predictions(model, df, X_user, X_item):\r\n",
    "    user_item = []\r\n",
    "\r\n",
    "    for index in range(len(df)):\r\n",
    "        i = df.user_id[index]\r\n",
    "        j = df.movie_id[index]\r\n",
    "        \r\n",
    "        try:user_item.append([i, j, float(model.predict([X_user[i-1:i], X_item[j-1:j]]))])\r\n",
    "        except: pass\r\n",
    "    \r\n",
    "    user_item = pd.DataFrame(data=user_item, columns=['user_id', 'movie_id','predict'])\r\n",
    "    return user_item"
   ]
  },
  {
   "cell_type": "code",
   "execution_count": 60,
   "metadata": {},
   "outputs": [],
   "source": [
    "try:\r\n",
    "    predictions = pd.read_csv('resources/hybrid/predictions.csv')\r\n",
    "except FileNotFoundError:\r\n",
    "    predictions = get_predictions(predic_model, train, X_user, X_item)\r\n",
    "    predictions.to_csv('resources/hybrid/predictions.csv')"
   ]
  },
  {
   "cell_type": "code",
   "execution_count": 84,
   "metadata": {},
   "outputs": [],
   "source": [
    "def get_top_k_items(df, col_user, col_rating, k=10):\r\n",
    "    top_k_items = (\r\n",
    "        df.groupby(col_user, as_index=True)\r\n",
    "        .apply(lambda x: x.nlargest(k, col_rating))\r\n",
    "        .reset_index(drop=True)\r\n",
    "    )\r\n",
    "    top_k_items[\"rank\"] = top_k_items.groupby(col_user, sort=True).cumcount() + 1\r\n",
    "    return top_k_items\r\n",
    "\r\n",
    "def recommend_topk(predictions, train, k=5):\r\n",
    "    predictions.fillna(0, inplace=True)\r\n",
    "    recommend_topk_df = get_top_k_items(predictions, 'user_id', 'predict', k=5)\r\n",
    "    return recommend_topk_df\r\n"
   ]
  },
  {
   "cell_type": "code",
   "execution_count": 90,
   "metadata": {},
   "outputs": [],
   "source": [
    "try:\r\n",
    "    ranking_top = pd.read_csv('resources/hybrid/ranking_top.csv')\r\n",
    "except FileNotFoundError:\r\n",
    "    ranking_top = recommend_topk(predictions, train)\r\n",
    "    ranking_top.to_csv('resources/hybrid/ranking_top.csv')"
   ]
  },
  {
   "cell_type": "code",
   "execution_count": 91,
   "metadata": {},
   "outputs": [],
   "source": [
    "def get_hit_df(rating_true, rating_pred, k):\r\n",
    "    common_users = set(rating_true[\"user_id\"]).intersection(set(rating_pred[\"user_id\"]))\r\n",
    "    rating_true_common = rating_true[rating_true[\"user_id\"].isin(common_users)]\r\n",
    "    rating_pred_common = rating_pred[rating_pred[\"user_id\"].isin(common_users)]\r\n",
    "    n_users = len(common_users)\r\n",
    "    df_hit = get_top_k_items(rating_pred_common, \"user_id\", \"predict\", k)\r\n",
    "    df_hit = pd.merge(df_hit, rating_true_common, on=[\"user_id\", \"movie_id\"])[\r\n",
    "        [\"user_id\", \"movie_id\", \"rank\"]\r\n",
    "    ]\r\n",
    "    df_hit_count = pd.merge(\r\n",
    "        df_hit.groupby(\"user_id\", as_index=False)[\"user_id\"].agg({\"hit\": \"count\"}),\r\n",
    "        rating_true_common.groupby(\"user_id\", as_index=False)[\"user_id\"].agg(\r\n",
    "            {\"actual\": \"count\"}\r\n",
    "        ),\r\n",
    "        on=\"user_id\",\r\n",
    "    )\r\n",
    "    return df_hit, df_hit_count, n_users\r\n",
    "\r\n",
    "def precision_at_k(rating_true, rating_pred, k):\r\n",
    "    df_hit, df_hit_count, n_users = get_hit_df(rating_true, rating_pred, k)\r\n",
    "    if df_hit.shape[0] == 0:\r\n",
    "        return 0.0\r\n",
    "    return (df_hit_count[\"hit\"] / k).sum() / n_users\r\n",
    "\r\n",
    "def recall_at_k(rating_true, rating_pred, k):\r\n",
    "    df_hit, df_hit_count, n_users = get_hit_df(rating_true, rating_pred, k)\r\n",
    "    if df_hit.shape[0] == 0:\r\n",
    "        return 0.0\r\n",
    "    return (df_hit_count[\"hit\"] / df_hit_count[\"actual\"]).sum() / n_users\r\n",
    "\r\n",
    "def ndcg_at_k(rating_true, rating_pred, k):\r\n",
    "    df_hit, df_hit_count, n_users = get_hit_df(rating_true, rating_pred, k)\r\n",
    "    if df_hit.shape[0] == 0:\r\n",
    "        return 0.0\r\n",
    "    df_dcg = df_hit.copy()\r\n",
    "    df_dcg[\"dcg\"] = 1 / np.log1p(df_dcg[\"rank\"])\r\n",
    "    df_dcg = df_dcg.groupby(\"user_id\", as_index=False, sort=False).agg({\"dcg\": \"sum\"})\r\n",
    "    df_ndcg = pd.merge(df_dcg, df_hit_count, on=[\"user_id\"])\r\n",
    "    df_ndcg[\"idcg\"] = df_ndcg[\"actual\"].apply(\r\n",
    "        lambda x: sum(1 / np.log1p(range(1, min(x, k) + 1)))\r\n",
    "    )\r\n",
    "    return (df_ndcg[\"dcg\"] / df_ndcg[\"idcg\"]).sum() / n_users"
   ]
  },
  {
   "cell_type": "code",
   "execution_count": 93,
   "metadata": {},
   "outputs": [
    {
     "name": "stdout",
     "output_type": "stream",
     "text": [
      " NDCG_K:\t0.5857475960581475\n",
      " Recall_K:\t0.7043010752688172\n",
      " Precision_K:\t0.07204301075268817\n",
      "\n"
     ]
    }
   ],
   "source": [
    "eval_precision = precision_at_k(train[:100], ranking_top, k=10)\r\n",
    "eval_recall = recall_at_k(train[:100], ranking_top, k=10)\r\n",
    "eval_ndcg = ndcg_at_k(train[:100], ranking_top, k=10)\r\n",
    "\r\n",
    "print(\r\n",
    "    f' NDCG_K:\\t{eval_ndcg}\\n', \r\n",
    "    f'Recall_K:\\t{eval_recall}\\n'\r\n",
    "    f' Precision_K:\\t{eval_precision}\\n', \r\n",
    ")"
   ]
  },
  {
   "cell_type": "markdown",
   "metadata": {},
   "source": [
    "# Get Similar Items"
   ]
  },
  {
   "cell_type": "code",
   "execution_count": 94,
   "metadata": {},
   "outputs": [],
   "source": [
    "def get_similar(embedding, k):\r\n",
    "    model_similar_items = NearestNeighbors(n_neighbors=k, algorithm='ball_tree').fit(embedding)\r\n",
    "    distance, indece = model_similar_items.kneighbors(embedding)\r\n",
    "    return distance, indece"
   ]
  },
  {
   "cell_type": "code",
   "execution_count": 95,
   "metadata": {},
   "outputs": [
    {
     "data": {
      "text/plain": "array([[   0, 1124,  606,  825, 1408],\n       [   1,    3, 1141,  942, 1251],\n       [   2,  934,  751,  170,  182],\n       ...,\n       [1679,  743, 1486,  686,  443],\n       [1680,  203,  845,  840, 1615],\n       [1681,  274,  172,  693,  171]], dtype=int64)"
     },
     "execution_count": 95,
     "metadata": {},
     "output_type": "execute_result"
    }
   ],
   "source": [
    "item_distance, item_similar_indice = get_similar(item_embedding, 5)\r\n",
    "item_similar_indice"
   ]
  },
  {
   "cell_type": "code",
   "execution_count": 98,
   "metadata": {},
   "outputs": [
    {
     "name": "stdout",
     "output_type": "stream",
     "text": [
      "[   1 1125  607  826 1409]\n"
     ]
    }
   ],
   "source": [
    "def print_similar(item_index, item_similar_indices, df):\r\n",
    "    encode_df = df.copy()\r\n",
    "    item_encode = LabelEncoder()\r\n",
    "    item_encode.fit(encode_df.movie_id.values)\r\n",
    "        \r\n",
    "    s = item_similar_indices[item_index]\r\n",
    "    movie_ids = item_encode.inverse_transform(s)\r\n",
    "\r\n",
    "    print(movie_ids)\r\n",
    "\r\n",
    "print_similar(0, item_similar_indice, df_items)"
   ]
  }
 ],
 "metadata": {
  "kernelspec": {
   "display_name": "Python 3",
   "language": "python",
   "name": "python3"
  },
  "language_info": {
   "codemirror_mode": {
    "name": "ipython",
    "version": 3
   },
   "file_extension": ".py",
   "mimetype": "text/x-python",
   "name": "python",
   "nbconvert_exporter": "python",
   "pygments_lexer": "ipython3",
   "version": "3.7.6-final"
  }
 },
 "nbformat": 4,
 "nbformat_minor": 2
}