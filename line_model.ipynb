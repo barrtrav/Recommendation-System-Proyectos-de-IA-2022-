{
 "cells": [
  {
   "cell_type": "markdown",
   "metadata": {},
   "source": [
    "# Recommend System\r\n",
    "-------------------"
   ]
  },
  {
   "cell_type": "markdown",
   "metadata": {},
   "source": [
    "# Import Libraries"
   ]
  },
  {
   "cell_type": "code",
   "execution_count": 1,
   "metadata": {},
   "outputs": [],
   "source": [
    "import math\r\n",
    "import random\r\n",
    "import numpy as np\r\n",
    "import pandas as pd\r\n",
    "\r\n",
    "from keras.models import Model\r\n",
    "from keras import backend as bd\r\n",
    "from keras.optimizers import Adam\r\n",
    "from keras.utils import plot_model\r\n",
    "from keras.engine.topology import Layer\r\n",
    "from keras.layers.core import Dense, Lambda\r\n",
    "from keras.layers import Input, Embedding, Flatten, Dot\r\n",
    "\r\n",
    "from sklearn.metrics import roc_auc_score, roc_curve\r\n",
    "from sklearn.preprocessing import LabelEncoder\r\n",
    "from sklearn.neighbors import NearestNeighbors\r\n",
    "\r\n",
    "import matplotlib.pyplot as plt"
   ]
  },
  {
   "cell_type": "markdown",
   "metadata": {},
   "source": [
    "# Load Data"
   ]
  },
  {
   "cell_type": "code",
   "execution_count": 2,
   "metadata": {},
   "outputs": [],
   "source": [
    "df_ratings = pd.read_csv('data/ratings.csv')\r\n",
    "\r\n",
    "df_items = pd.read_csv('data/items.csv')\r\n",
    "n_items = df_items.movie_id.nunique()\r\n",
    "\r\n",
    "df_users = pd.read_csv('data/users.csv')\r\n",
    "n_users = df_users.user_id.nunique()"
   ]
  },
  {
   "cell_type": "markdown",
   "metadata": {},
   "source": [
    "# Model Building"
   ]
  },
  {
   "cell_type": "markdown",
   "metadata": {},
   "source": [
    "## Defien Model"
   ]
  },
  {
   "cell_type": "code",
   "execution_count": 15,
   "metadata": {},
   "outputs": [],
   "source": [
    "def build_model(n_users, n_items, n_factors = 30):\r\n",
    "    user_input = Input(shape=[1], name='user_input')\r\n",
    "    item_input = Input(shape=[1], name='item_input')\r\n",
    "\r\n",
    "    inputs = [user_input, item_input]\r\n",
    "\r\n",
    "    user_embedding = Embedding(n_users, n_factors, name='user_embedding')(user_input)\r\n",
    "    item_embedding = Embedding(n_items, n_factors, name='item_embedding')(item_input)\r\n",
    "\r\n",
    "    user_flatten = Flatten(name='flatten_user_embedding')(user_embedding)\r\n",
    "    item_flatten = Flatten(name='flatten_item_embedding')(item_embedding)\r\n",
    "\r\n",
    "    rating = Dot(axes=1, name='dot_product')([user_flatten, item_flatten])\r\n",
    "\r\n",
    "    model = Model(inputs, rating, name='training_model')\r\n",
    "    model.compile(loss='mean_squared_error', optimizer=Adam(lr=0.001))\r\n",
    "\r\n",
    "    return model"
   ]
  },
  {
   "cell_type": "code",
   "execution_count": 16,
   "metadata": {},
   "outputs": [],
   "source": [
    "model = build_model(n_users, n_items)"
   ]
  },
  {
   "cell_type": "markdown",
   "metadata": {},
   "source": [
    "# Training Phase"
   ]
  },
  {
   "cell_type": "markdown",
   "metadata": {},
   "source": [
    "## Building Batch"
   ]
  },
  {
   "cell_type": "code",
   "execution_count": 26,
   "metadata": {},
   "outputs": [],
   "source": [
    "def random_split(df, ratios):\r\n",
    "    samples = df.shape[0]\r\n",
    "\r\n",
    "    split_ratio = np.cumsum(ratios).tolist()[:-1]\r\n",
    "    split_index = [round(x * samples) for x in split_ratio]\r\n",
    "    splits = np.split(df, split_index)\r\n",
    "    \r\n",
    "    for i in range(len(ratios)):\r\n",
    "        splits[i]['split_index'] = i\r\n",
    "    \r\n",
    "    return splits"
   ]
  },
  {
   "cell_type": "markdown",
   "metadata": {},
   "source": [
    "## Traning over batches"
   ]
  },
  {
   "cell_type": "code",
   "execution_count": 27,
   "metadata": {},
   "outputs": [],
   "source": [
    "BATCH_SIZE = 10\r\n",
    "EVALUATE_EVERY = 100\r\n",
    "NUMBER_VALIDATE = 1000\r\n",
    "NUMBER_ITERATIONS = 2000"
   ]
  },
  {
   "cell_type": "code",
   "execution_count": 30,
   "metadata": {},
   "outputs": [
    {
     "name": "stdout",
     "output_type": "stream",
     "text": [
      "WARNING:tensorflow:From C:\\Users\\Reinaldo\\anaconda3\\lib\\site-packages\\keras\\backend\\tensorflow_backend.py:422: The name tf.global_variables is deprecated. Please use tf.compat.v1.global_variables instead.\n",
      "\n",
      "[1000] ...\n",
      "[2000] ...\n"
     ]
    }
   ],
   "source": [
    "import time\r\n",
    "\r\n",
    "try:\r\n",
    "    model.load_weights('resources/lineal/model.h5')\r\n",
    "    \r\n",
    "except OSError:\r\n",
    "    log_file = open('resources/lineal/log_training', 'w')\r\n",
    "\r\n",
    "    log_file.write('Start training process!')\r\n",
    "    log_file.write('---------------------------------')\r\n",
    "\r\n",
    "    time_start = time.time()\r\n",
    "    n_iterations = 0\r\n",
    "    for i in range(1, NUMBER_ITERATIONS + 1):\r\n",
    "        results, _ = random_split(df_ratings, [0.2, 0.8])\r\n",
    "        loss = model.train_on_batch([results.user_id, results.movie_id], results.rating)\r\n",
    "        n_iterations += 1\r\n",
    "        if i % EVALUATE_EVERY == 0:\r\n",
    "            log_file.write('\\n--------------\\n')\r\n",
    "            log_file.write('[{3}] Time for {0} iterations: {1:.1f} mins, Train Loss: {2}'.format(i, (time.time() - time_start)/60.0, loss, n_iterations))\r\n",
    "        if i % (EVALUATE_EVERY * 10) == 0:    \r\n",
    "            print(f'[{i}] ...')\r\n",
    "    model.save_weights('resources/lineal/model.h5')\r\n"
   ]
  },
  {
   "cell_type": "code",
   "execution_count": 31,
   "metadata": {},
   "outputs": [],
   "source": [
    "try:\r\n",
    "    train = pd.read_csv('resources/lineal/training.csv')\r\n",
    "except FileNotFoundError:\r\n",
    "    train, _ = random_split(df_ratings, [0.8, 0.2])\r\n",
    "    train.to_csv('resources/lineal/training.csv')"
   ]
  },
  {
   "cell_type": "markdown",
   "metadata": {},
   "source": [
    "# Evaluation"
   ]
  },
  {
   "cell_type": "code",
   "execution_count": 34,
   "metadata": {},
   "outputs": [
    {
     "data": {
      "text/plain": "array([[4.046356]], dtype=float32)"
     },
     "execution_count": 34,
     "metadata": {},
     "output_type": "execute_result"
    }
   ],
   "source": [
    "model.predict([[1], [1]])"
   ]
  },
  {
   "cell_type": "code",
   "execution_count": 35,
   "metadata": {},
   "outputs": [
    {
     "data": {
      "text/plain": "array([[2.9156291]], dtype=float32)"
     },
     "execution_count": 35,
     "metadata": {},
     "output_type": "execute_result"
    }
   ],
   "source": [
    "model.predict([[3], [1]])"
   ]
  },
  {
   "cell_type": "code",
   "execution_count": 36,
   "metadata": {},
   "outputs": [],
   "source": [
    "def compute_probs(model, X_user, X_item, thrs=0.5):\r\n",
    "    m = X_user.shape[0]\r\n",
    "    nbevaluation = int(m**2)\r\n",
    "    X = np.zeros((nbevaluation))\r\n",
    "    y = np.zeros((nbevaluation))\r\n",
    "\r\n",
    "    k = 0\r\n",
    "    for i in range(1, m):\r\n",
    "        for j in range(1, m):\r\n",
    "            X[k] = float(model.predict([X_user[i-1:i], X_item[j-1:j]]))\r\n",
    "            if X[k] > thrs: y[k] = 1\r\n",
    "            else: y[k] = 0\r\n",
    "            k += 1\r\n",
    "    return X, y\r\n",
    "\r\n",
    "def compute_metrics(X, y):\r\n",
    "    auc = roc_auc_score(y, X)\r\n",
    "    fpr, tpr, thresholds = roc_curve(y, X)\r\n",
    "    return fpr, tpr, thresholds, auc\r\n",
    "\r\n",
    "def find_nearest(array, value):\r\n",
    "    idx = np.searchsorted(array, value, side='left')\r\n",
    "    if idx > 0 and (idx == len(array) or math.fabs(value - array[idx-1]) < math .fabs(value - array[idx])):\r\n",
    "        return array[idx-1], idx-1\r\n",
    "    else:\r\n",
    "        return array[idx], idx\r\n",
    "\r\n",
    "def draw_roc(fpr, tpr, threshold):\r\n",
    "    targetfpr=1e-3\r\n",
    "    _, idx = find_nearest(fpr, targetfpr)\r\n",
    "    threshold = threshold[idx]\r\n",
    "    recall = tpr[idx]\r\n",
    "\r\n",
    "    plt.plot([0, 1], [0, 1], linestyle='--')\r\n",
    "    plt.plot(fpr, tpr, marker='.')\r\n",
    "    plt.title('AUC:{0:.3f}\\nSensitivity : {2:.1f} @FPR={1:.0e}\\nThreshold={3}'.format(auc, targetfpr, recall, abs(threshold)))\r\n",
    "    plt.show()"
   ]
  },
  {
   "cell_type": "code",
   "execution_count": 38,
   "metadata": {},
   "outputs": [
    {
     "data": {
      "image/png": "[encoded data removed]",
      "text/plain": "<Figure size 432x288 with 1 Axes>"
     },
     "metadata": {
      "needs_background": "light",
      "transient": {}
     },
     "output_type": "display_data"
    }
   ],
   "source": [
    "X, y = compute_probs(model, df_ratings.user_id[:100], df_ratings.movie_id[:100], thrs=0.02)\r\n",
    "fpr, tpr, threshold, auc = compute_metrics(X, y)\r\n",
    "draw_roc(fpr, tpr, threshold)"
   ]
  },
  {
   "cell_type": "code",
   "execution_count": 39,
   "metadata": {},
   "outputs": [],
   "source": [
    "def get_embedding(model, name):\r\n",
    "    embedding = model.get_layer(name = name).get_weights()[0]\r\n",
    "    return embedding"
   ]
  },
  {
   "cell_type": "code",
   "execution_count": 41,
   "metadata": {},
   "outputs": [],
   "source": [
    "item_embedding = get_embedding(model, 'item_embedding')\r\n",
    "user_embedding = get_embedding(model, 'user_embedding')"
   ]
  },
  {
   "cell_type": "code",
   "execution_count": 43,
   "metadata": {},
   "outputs": [],
   "source": [
    "def get_predictions(model, data):\r\n",
    "    user_item = user_item_crossjoin(data)\r\n",
    "    user_item[\"rating_pred\"] = model.predict([user_item['user_id'], user_item['movie_id']])\r\n",
    "    return user_item\r\n",
    "\r\n",
    "def user_item_crossjoin(df):\r\n",
    "    crossjoin_list = []\r\n",
    "    for user in df['user_id'].unique():\r\n",
    "        for item in df['movie_id'].unique():\r\n",
    "            crossjoin_list.append([user, item])\r\n",
    "    cross_join_df = pd.DataFrame(data=crossjoin_list, columns=[\"user_id\", \"movie_id\"])\r\n",
    "    return cross_join_df"
   ]
  },
  {
   "cell_type": "code",
   "execution_count": 45,
   "metadata": {},
   "outputs": [],
   "source": [
    "try:\r\n",
    "    predictions = pd.read_csv('resources/lineal/predictions.csv')\r\n",
    "except FileNotFoundError:\r\n",
    "    predictions = get_predictions(model, train)\r\n",
    "    predictions.to_csv('resources/lineal/predictions.csv')"
   ]
  },
  {
   "cell_type": "code",
   "execution_count": 53,
   "metadata": {},
   "outputs": [],
   "source": [
    "def get_top_k_items(df, col_user, col_rating, k=10):\r\n",
    "    top_k_items = (\r\n",
    "        df.groupby(col_user, as_index=True)\r\n",
    "        .apply(lambda x: x.nlargest(k, col_rating))\r\n",
    "        .reset_index(drop=True)\r\n",
    "    )\r\n",
    "    top_k_items[\"rank\"] = top_k_items.groupby(col_user, sort=True).cumcount() + 1\r\n",
    "    return top_k_items\r\n",
    "\r\n",
    "def recommend_topk(predictions, train, k=5):\r\n",
    "    predictions.fillna(0, inplace=True)\r\n",
    "    recommend_topk_df = get_top_k_items(predictions, 'user_id', 'rating_pred', k=5)\r\n",
    "    return recommend_topk_df\r\n"
   ]
  },
  {
   "cell_type": "code",
   "execution_count": 54,
   "metadata": {},
   "outputs": [],
   "source": [
    "try:\r\n",
    "    ranking_top = pd.read_csv('resources/lineal/ranking_top.csv')\r\n",
    "except FileNotFoundError:\r\n",
    "    ranking_top = recommend_topk(predictions, train)\r\n",
    "    ranking_top.to_csv('resources/lineal/ranking_top.csv')"
   ]
  },
  {
   "cell_type": "code",
   "execution_count": 58,
   "metadata": {},
   "outputs": [],
   "source": [
    "def get_hit_df(rating_true, rating_pred, k):\r\n",
    "    common_users = set(rating_true[\"user_id\"]).intersection(set(rating_pred[\"user_id\"]))\r\n",
    "    rating_true_common = rating_true[rating_true[\"user_id\"].isin(common_users)]\r\n",
    "    rating_pred_common = rating_pred[rating_pred[\"user_id\"].isin(common_users)]\r\n",
    "    n_users = len(common_users)\r\n",
    "    df_hit = get_top_k_items(rating_pred_common, \"user_id\", \"rating_pred\", k)\r\n",
    "    df_hit = pd.merge(df_hit, rating_true_common, on=[\"user_id\", \"movie_id\"])[\r\n",
    "        [\"user_id\", \"movie_id\", \"rank\"]\r\n",
    "    ]\r\n",
    "    df_hit_count = pd.merge(\r\n",
    "        df_hit.groupby(\"user_id\", as_index=False)[\"user_id\"].agg({\"hit\": \"count\"}),\r\n",
    "        rating_true_common.groupby(\"user_id\", as_index=False)[\"user_id\"].agg(\r\n",
    "            {\"actual\": \"count\"}\r\n",
    "        ),\r\n",
    "        on=\"user_id\",\r\n",
    "    )\r\n",
    "    return df_hit, df_hit_count, n_users\r\n",
    "\r\n",
    "def precision_at_k(rating_true, rating_pred, k):\r\n",
    "    df_hit, df_hit_count, n_users = get_hit_df(rating_true, rating_pred, k)\r\n",
    "    if df_hit.shape[0] == 0:\r\n",
    "        return 0.0\r\n",
    "    return (df_hit_count[\"hit\"] / k).sum() / n_users\r\n",
    "\r\n",
    "def recall_at_k(rating_true, rating_pred, k):\r\n",
    "    df_hit, df_hit_count, n_users = get_hit_df(rating_true, rating_pred, k)\r\n",
    "    if df_hit.shape[0] == 0:\r\n",
    "        return 0.0\r\n",
    "    return (df_hit_count[\"hit\"] / df_hit_count[\"actual\"]).sum() / n_users\r\n",
    "\r\n",
    "def ndcg_at_k(rating_true, rating_pred, k):\r\n",
    "    df_hit, df_hit_count, n_users = get_hit_df(rating_true, rating_pred, k)\r\n",
    "    if df_hit.shape[0] == 0:\r\n",
    "        return 0.0\r\n",
    "    df_dcg = df_hit.copy()\r\n",
    "    df_dcg[\"dcg\"] = 1 / np.log1p(df_dcg[\"rank\"])\r\n",
    "    df_dcg = df_dcg.groupby(\"user_id\", as_index=False, sort=False).agg({\"dcg\": \"sum\"})\r\n",
    "    df_ndcg = pd.merge(df_dcg, df_hit_count, on=[\"user_id\"])\r\n",
    "    df_ndcg[\"idcg\"] = df_ndcg[\"actual\"].apply(\r\n",
    "        lambda x: sum(1 / np.log1p(range(1, min(x, k) + 1)))\r\n",
    "    )\r\n",
    "    return (df_ndcg[\"dcg\"] / df_ndcg[\"idcg\"]).sum() / n_users"
   ]
  },
  {
   "cell_type": "code",
   "execution_count": 59,
   "metadata": {},
   "outputs": [
    {
     "name": "stdout",
     "output_type": "stream",
     "text": [
      " NDCG_K:\t0.22009176629808014\n",
      " Recall_K:\t0.01\n",
      " Precision_K:\t0.1\n",
      "\n"
     ]
    }
   ],
   "source": [
    "eval_precision = precision_at_k(train[:100], ranking_top, k=10)\r\n",
    "eval_recall = recall_at_k(train[:100], ranking_top, k=10)\r\n",
    "eval_ndcg = ndcg_at_k(train[:100], ranking_top, k=10)\r\n",
    "\r\n",
    "print(\r\n",
    "    f' NDCG_K:\\t{eval_ndcg}\\n', \r\n",
    "    f'Recall_K:\\t{eval_recall}\\n'\r\n",
    "    f' Precision_K:\\t{eval_precision}\\n', \r\n",
    ")"
   ]
  },
  {
   "cell_type": "markdown",
   "metadata": {},
   "source": [
    "# Get Similar Items"
   ]
  },
  {
   "cell_type": "code",
   "execution_count": 60,
   "metadata": {},
   "outputs": [],
   "source": [
    "def get_similar(embedding, k):\r\n",
    "    model_similar_items = NearestNeighbors(n_neighbors=k, algorithm='ball_tree').fit(embedding)\r\n",
    "    distance, indece = model_similar_items.kneighbors(embedding)\r\n",
    "    return distance, indece"
   ]
  },
  {
   "cell_type": "code",
   "execution_count": 61,
   "metadata": {},
   "outputs": [
    {
     "data": {
      "text/plain": "array([[   0, 1462, 1438, 1637, 1535],\n       [   1, 1293,  100,  915, 1272],\n       [   2,  723, 1157,  291, 1049],\n       ...,\n       [1679, 1593, 1123, 1370, 1190],\n       [1680, 1383, 1511, 1347, 1661],\n       [1681, 1327, 1523, 1253, 1511]], dtype=int64)"
     },
     "execution_count": 61,
     "metadata": {},
     "output_type": "execute_result"
    }
   ],
   "source": [
    "item_distance, item_similar_indice = get_similar(item_embedding, 5)\r\n",
    "item_similar_indice"
   ]
  },
  {
   "cell_type": "code",
   "execution_count": 62,
   "metadata": {},
   "outputs": [
    {
     "name": "stdout",
     "output_type": "stream",
     "text": [
      "[   1 1463 1439 1638 1536]\n"
     ]
    }
   ],
   "source": [
    "def print_similar(item_index, item_similar_indices, df):\r\n",
    "    encode_df = df.copy()\r\n",
    "    item_encode = LabelEncoder()\r\n",
    "    item_encode.fit(encode_df.movie_id.values)\r\n",
    "        \r\n",
    "    s = item_similar_indices[item_index]\r\n",
    "    movie_ids = item_encode.inverse_transform(s)\r\n",
    "\r\n",
    "    print(movie_ids)\r\n",
    "\r\n",
    "print_similar(0, item_similar_indice, df_items)"
   ]
  }
 ],
 "metadata": {
  "kernelspec": {
   "display_name": "Python 3",
   "language": "python",
   "name": "python3"
  },
  "language_info": {
   "codemirror_mode": {
    "name": "ipython",
    "version": 3
   },
   "file_extension": ".py",
   "mimetype": "text/x-python",
   "name": "python",
   "nbconvert_exporter": "python",
   "pygments_lexer": "ipython3",
   "version": "3.7.6-final"
  }
 },
 "nbformat": 4,
 "nbformat_minor": 2
}